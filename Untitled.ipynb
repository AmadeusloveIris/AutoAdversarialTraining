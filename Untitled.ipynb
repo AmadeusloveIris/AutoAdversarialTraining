{
 "cells": [
  {
   "cell_type": "code",
   "execution_count": null,
   "id": "d31ad274",
   "metadata": {},
   "outputs": [],
   "source": [
    "import torch\n",
    "import pickle\n",
    "import torch.nn.functional as f\n",
    "import numpy as np"
   ]
  },
  {
   "cell_type": "code",
   "execution_count": null,
   "id": "0b1f232e",
   "metadata": {},
   "outputs": [],
   "source": [
    "data,label = pickle.load(open('./data/cifar_train.pt','rb'))\n",
    "data = np.array(torch.Tensor(data).permute(0,3,1,2),dtype=np.uint8)\n",
    "data = np.concatenate([data,data[...,::-1]])\n",
    "data = np.pad(data, ((0,0),(0,0),(2,2),(2,2)))"
   ]
  },
  {
   "cell_type": "code",
   "execution_count": null,
   "id": "9bbccefd",
   "metadata": {},
   "outputs": [],
   "source": [
    "h, w = data.shape[-2:]\n",
    "th, tw = 32, 32\n",
    "temp = []\n",
    "for i in range(0, h-th+1):\n",
    "    for j in range(0, w-tw+1):\n",
    "        temp.append(data[..., i:i+th,j:j+tw])\n",
    "data = np.concatenate(temp)"
   ]
  },
  {
   "cell_type": "code",
   "execution_count": null,
   "id": "cfb4b1d1",
   "metadata": {},
   "outputs": [],
   "source": [
    "data = torch.Tensor(data,dtype=torch.uint8)"
   ]
  },
  {
   "cell_type": "code",
   "execution_count": null,
   "id": "509e0c30",
   "metadata": {},
   "outputs": [],
   "source": [
    "np.savez('./data/cifar_augment.pt',temp)"
   ]
  },
  {
   "cell_type": "code",
   "execution_count": null,
   "id": "d9ecbdcb",
   "metadata": {},
   "outputs": [],
   "source": [
    "data = torch.concat([data,torch.flip(data,[-1])])"
   ]
  },
  {
   "cell_type": "code",
   "execution_count": null,
   "id": "3a0caa28",
   "metadata": {},
   "outputs": [],
   "source": [
    "import numpy as np"
   ]
  },
  {
   "cell_type": "code",
   "execution_count": null,
   "id": "87e6edb8",
   "metadata": {},
   "outputs": [],
   "source": [
    "data = np.array(data, dtype=np.uint8)"
   ]
  },
  {
   "cell_type": "code",
   "execution_count": null,
   "id": "22664bff",
   "metadata": {},
   "outputs": [],
   "source": []
  }
 ],
 "metadata": {
  "kernelspec": {
   "display_name": "Security",
   "language": "python",
   "name": "security"
  },
  "language_info": {
   "codemirror_mode": {
    "name": "ipython",
    "version": 3
   },
   "file_extension": ".py",
   "mimetype": "text/x-python",
   "name": "python",
   "nbconvert_exporter": "python",
   "pygments_lexer": "ipython3",
   "version": "3.9.13"
  }
 },
 "nbformat": 4,
 "nbformat_minor": 5
}
